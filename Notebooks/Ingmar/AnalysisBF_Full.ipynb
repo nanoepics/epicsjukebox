{
 "cells": [
  {
   "cell_type": "code",
   "execution_count": 3,
   "id": "b8dcc2bb-db96-4a03-9c3b-848936ab4a6e",
   "metadata": {},
   "outputs": [],
   "source": [
    "import av\n",
    "import numpy as np\n",
    "import pandas as pd\n",
    "import matplotlib.pyplot as plt\n",
    "import pims\n",
    "import trackpy \n",
    "import trackpy as tp\n",
    "from pims import ImageSequence\n",
    "from Particledrop import Landing_Flashes"
   ]
  },
  {
   "cell_type": "code",
   "execution_count": 4,
   "id": "f05c7023-17a0-4c54-b369-146d029f9cf2",
   "metadata": {
    "jupyter": {
     "source_hidden": true
    },
    "tags": []
   },
   "outputs": [],
   "source": [
    "def trackpy_movie(movie, size, mmass):\n",
    "    nf = movie.shape[0]\n",
    "    f1 = trackpy.batch(movie[:,:,:], size, minmass=5, invert=False, processes='auto')\n",
    "    t = trackpy.link(f1, 5, memory=0)\n",
    "    \n",
    "    t1 = trackpy.filter_stubs(t, 3)\n",
    "\n",
    "    t2 = t1.rename(columns={'frame':'Frame'})\n",
    "#     particles = t2['particle'].nunique()\n",
    "#     print('Unique particles found:', + particles)\n",
    "    \n",
    "    # t2.groupby('Frame')['particle'].nunique().plot(kind='line')\n",
    "    # plt.yticks(np.arange(0, particles+1, 5.0))\n",
    "    # plt.xticks(np.arange(0, nf+1, 10.0))\n",
    "    # plt.title('Number of landed particles over the series of frames')\n",
    "    # plt.xlabel('Frame number')\n",
    "    # plt.ylabel('Number of particles')\n",
    "    # plt.grid()\n",
    "    # plt.show()\n",
    "    \n",
    "    nparticles = []\n",
    "    frames = np.arange(0,nf,1)\n",
    "\n",
    "    for i in range(nf):\n",
    "        temp = t2.loc[t2['Frame'] == i]\n",
    "        nparticles.append(len(temp))\n",
    "\n",
    "    plt.figure()\n",
    "    plt.step(frames,nparticles)\n",
    "    plt.yticks(np.arange(0, max(nparticles)+1, 2.0))\n",
    "    plt.xticks(np.arange(0, nf+1, 5.0))\n",
    "    plt.title('Stepfunction number of landed particles over the series of frames')\n",
    "    plt.xlabel('Frame number')\n",
    "    plt.ylabel('Number of particles')\n",
    "    plt.grid()\n",
    "    plt.show()\n",
    "    \n",
    "    t_hist = t2.drop_duplicates(subset=['particle'])\n",
    "    plt.title('Found Mass Histogram')\n",
    "    plt.hist(t_hist['mass'])\n",
    "    plt.show()\n",
    "    \n",
    "#     plt.figure()\n",
    "#     trackpy.annotate(t2[t2['Frame'] == nf-1], movie[nf-1]);\n",
    "    \n",
    "#     return t2, t_hist\n",
    "    return"
   ]
  },
  {
   "cell_type": "code",
   "execution_count": 5,
   "id": "d5e84a8f-aa66-4414-93cc-3c4e7544289b",
   "metadata": {},
   "outputs": [],
   "source": [
    "plt.rcParams['figure.figsize'] = (5, 5)"
   ]
  },
  {
   "cell_type": "code",
   "execution_count": 15,
   "id": "1fe79354-aa4e-4771-9172-911c66c4252e",
   "metadata": {},
   "outputs": [],
   "source": [
    "# video = r'C:\\Users\\brugg\\Documents\\MasterThesis\\02062022\\normal.avi'\n",
    "video = r\"E:\\Ingmar\\Ingmar\\Experimental_data\\14092022\\Stuck\\1_1000\\bg_video.avi\""
   ]
  },
  {
   "cell_type": "code",
   "execution_count": 16,
   "id": "4fa5a7c0-908d-43db-9e0c-47b45661d421",
   "metadata": {},
   "outputs": [],
   "source": [
    "container = av.open(video)\n",
    "\n",
    "for frame in container.decode(video=0):\n",
    "    frame.to_image().save('Images/1409_1_1000/frame%d.jpg' % frame.index)\n",
    "    frame.to_image()"
   ]
  },
  {
   "cell_type": "code",
   "execution_count": 17,
   "id": "771e7fa4-0161-4e12-aa82-4e2c25a7c1b7",
   "metadata": {},
   "outputs": [
    {
     "name": "stdout",
     "output_type": "stream",
     "text": [
      "501\n"
     ]
    }
   ],
   "source": [
    "images = ImageSequence('Images/1409_1_1000/frame*.jpg')\n",
    "length = len(images)\n",
    "print(length)"
   ]
  },
  {
   "cell_type": "code",
   "execution_count": 18,
   "id": "f3e99f65-7495-412e-beac-c4dc83056dd1",
   "metadata": {},
   "outputs": [],
   "source": [
    "@pims.pipeline\n",
    "def gray(image):\n",
    "    return image[:, :, 1]  # Take just the green channel\n",
    "\n",
    "\n",
    "frames1 = gray(pims.open('Images/1409_1_1000/*.jpg'))\n",
    "# frames2 = gray(pims.open('FramesOverview2/*.jpg'))"
   ]
  },
  {
   "cell_type": "code",
   "execution_count": 19,
   "id": "5064af35-44dd-4d17-8af3-b2c64fb82573",
   "metadata": {},
   "outputs": [],
   "source": [
    "frames1\n",
    "nf1 = len(frames1)"
   ]
  },
  {
   "cell_type": "code",
   "execution_count": 37,
   "id": "baeb215a-1a2a-4e28-85ae-6f1226598685",
   "metadata": {
    "tags": []
   },
   "outputs": [],
   "source": [
    "# frames2\n",
    "# nf2 = len(frames2)"
   ]
  },
  {
   "cell_type": "code",
   "execution_count": 38,
   "id": "3bb758fe-30fe-4c18-9a5b-8bab7a7468e2",
   "metadata": {
    "tags": []
   },
   "outputs": [],
   "source": [
    "# frames1[525]"
   ]
  },
  {
   "cell_type": "code",
   "execution_count": 39,
   "id": "dec4b269-98c4-4446-9685-b5e3741bc33f",
   "metadata": {},
   "outputs": [],
   "source": [
    "# overview1 = tp.locate(frames1[525], 7, minmass=700, separation=15)"
   ]
  },
  {
   "cell_type": "code",
   "execution_count": 40,
   "id": "a2c0e041-94f8-41f2-b0e1-1f736df8ecb8",
   "metadata": {
    "tags": []
   },
   "outputs": [],
   "source": [
    "# overview1"
   ]
  },
  {
   "cell_type": "code",
   "execution_count": 41,
   "id": "ae0c4801-1054-4128-badf-8c4a308f262d",
   "metadata": {
    "tags": []
   },
   "outputs": [],
   "source": [
    "# tp.annotate(overview1, frames1[525]);\n",
    "# print(len(overview1['mass']))"
   ]
  },
  {
   "cell_type": "code",
   "execution_count": 42,
   "id": "41d7181c-c537-489b-82e9-e0d698186f6d",
   "metadata": {
    "tags": []
   },
   "outputs": [],
   "source": [
    "# fig, ax = plt.subplots()\n",
    "# ax.hist(overview1['mass'], bins=10)\n",
    "\n",
    "# # Optionally, label the axes.\n",
    "# ax.set(xlabel='mass', ylabel='count');"
   ]
  },
  {
   "cell_type": "code",
   "execution_count": 43,
   "id": "36c47a47-4639-4203-9b50-f9c0afe02812",
   "metadata": {
    "tags": []
   },
   "outputs": [],
   "source": [
    "# frames2[366]"
   ]
  },
  {
   "cell_type": "code",
   "execution_count": 44,
   "id": "72863e22-351b-4670-bef7-03b75c725e37",
   "metadata": {},
   "outputs": [],
   "source": [
    "# overview2 = tp.locate(frames2[366], 7, minmass=700, separation=15)"
   ]
  },
  {
   "cell_type": "code",
   "execution_count": 45,
   "id": "ef55cefb-9acf-4ba5-9391-64f8d038b63a",
   "metadata": {
    "tags": []
   },
   "outputs": [],
   "source": [
    "# overview2"
   ]
  },
  {
   "cell_type": "code",
   "execution_count": 46,
   "id": "a9d3673c-74d0-4443-a1bb-8c28320e5add",
   "metadata": {
    "tags": []
   },
   "outputs": [],
   "source": [
    "# tp.annotate(overview2, frames2[366]);\n",
    "# print(len(overview2['mass']))"
   ]
  },
  {
   "cell_type": "code",
   "execution_count": 47,
   "id": "804ca865-be5e-4991-8c2b-9a66e994d0b6",
   "metadata": {},
   "outputs": [],
   "source": [
    "plt.rcParams['figure.figsize'] = (10, 10)"
   ]
  },
  {
   "cell_type": "code",
   "execution_count": 48,
   "id": "0c16afe2-8aba-4efa-b1d9-55cbaa0c26c3",
   "metadata": {
    "tags": []
   },
   "outputs": [],
   "source": [
    "# fig, ax = plt.subplots()\n",
    "# ax.hist(overview2['mass'], bins=10)\n",
    "\n",
    "# # Optionally, label the axes.\n",
    "# ax.set(xlabel='mass', ylabel='count');"
   ]
  },
  {
   "cell_type": "code",
   "execution_count": 49,
   "id": "a43d40d5-6072-4383-8a3a-c2f966d799b6",
   "metadata": {},
   "outputs": [],
   "source": [
    "# f = tp.batch(frames[0:50], 5, minmass=56)\n",
    "# f = tp.batch(frames1[20:29], 7, minmass=700, maxsize=2.2, noise_size=1.2, separation=15)"
   ]
  },
  {
   "cell_type": "code",
   "execution_count": 50,
   "id": "b8412a6e-17ef-41b6-8602-705eac4092f3",
   "metadata": {},
   "outputs": [],
   "source": [
    "# tp.quiet()  # Turn off progress reports for best performance\n",
    "# t = tp.link(f, 8, memory=1, )"
   ]
  },
  {
   "cell_type": "code",
   "execution_count": 51,
   "id": "f1d223e2-68c8-439a-bd49-09f2a371443e",
   "metadata": {},
   "outputs": [],
   "source": [
    "# t1 = tp.filter_stubs(t, 25)\n",
    "# # Compare the number of particles in the unfiltered and filtered data.\n",
    "# print('Before:', t['particle'].nunique())\n",
    "# print('After:', t1['particle'].nunique())"
   ]
  },
  {
   "cell_type": "code",
   "execution_count": 52,
   "id": "b599ea81-806e-453e-aa27-5897239dd83a",
   "metadata": {
    "tags": []
   },
   "outputs": [],
   "source": [
    "# plt.figure()\n",
    "# tp.mass_size(t1.groupby('particle').mean()); # convenience function -- just plots size vs. mass"
   ]
  },
  {
   "cell_type": "code",
   "execution_count": 53,
   "id": "71b7006a-3e52-4813-9739-f8e27ed56093",
   "metadata": {},
   "outputs": [],
   "source": [
    "# t2 = t1[((t1['mass'] > 750) & (t1['size'] < 2.6) &\n",
    "#          (t1['ecc'] < 0.5))]"
   ]
  },
  {
   "cell_type": "code",
   "execution_count": 54,
   "id": "c25eae06-9df1-4ed3-8d75-6447cd361130",
   "metadata": {
    "tags": []
   },
   "outputs": [],
   "source": [
    "# plt.figure()\n",
    "# tp.annotate(t2[t2['frame'] == 366], frames2[366]);"
   ]
  },
  {
   "cell_type": "code",
   "execution_count": 55,
   "id": "d8e0dce8-45ec-4698-ae38-fbe4acb0fe29",
   "metadata": {
    "tags": []
   },
   "outputs": [],
   "source": [
    "# plt.figure()\n",
    "# tp.plot_traj(t2);"
   ]
  },
  {
   "cell_type": "code",
   "execution_count": 56,
   "id": "3ac580da-35e0-4bc9-b04b-be3eeecb2908",
   "metadata": {},
   "outputs": [
    {
     "name": "stdout",
     "output_type": "stream",
     "text": [
      "(1400, 1024, 1024)\n"
     ]
    }
   ],
   "source": [
    "startframe = 0\n",
    "endframe = nf1\n",
    "startframe2 = 1  # +1 for accounting for the moving average\n",
    "endframe2 = endframe-startframe\n",
    "\n",
    "bgcorrected2 = frames1[startframe2:endframe2] - np.mean([frames1[startframe2-1:endframe2-1]])\n",
    "\n",
    "print(bgcorrected2.shape)  # to check the shape of the array(frames,x,y)"
   ]
  },
  {
   "cell_type": "code",
   "execution_count": 57,
   "id": "be46c2cc-e491-4a1e-ae81-27160c2ac0db",
   "metadata": {},
   "outputs": [
    {
     "name": "stdout",
     "output_type": "stream",
     "text": [
      "Frame 1399: 10474 features\n"
     ]
    },
    {
     "data": {
      "text/plain": [
       "(array([3.874032e+06, 9.920965e+06, 7.304320e+05, 6.124100e+04,\n",
       "        2.677100e+04, 1.450700e+04, 4.562000e+03, 2.609000e+03,\n",
       "        1.001000e+03, 1.190000e+02]),\n",
       " array([  6.39304395,  58.32547886, 110.25791377, 162.19034868,\n",
       "        214.12278359, 266.05521851, 317.98765342, 369.92008833,\n",
       "        421.85252324, 473.78495815, 525.71739306]),\n",
       " <BarContainer object of 10 artists>)"
      ]
     },
     "execution_count": 57,
     "metadata": {},
     "output_type": "execute_result"
    },
    {
     "data": {
      "image/png": "[encoded data removed]",
      "text/plain": [
       "<Figure size 720x720 with 1 Axes>"
      ]
     },
     "metadata": {
      "needs_background": "light"
     },
     "output_type": "display_data"
    }
   ],
   "source": [
    "# t = tp.batch(bgcorrected2[:], 5, minmass=100, separation=15)\n",
    "t = tp.batch(bgcorrected2[:], 5)\n",
    "plt.title('Raw data: all frames with BG subtraction')\n",
    "plt.xlabel('Particle intensity')\n",
    "plt.ylabel('Particle count')\n",
    "plt.hist(t['mass'])"
   ]
  },
  {
   "cell_type": "code",
   "execution_count": 58,
   "id": "32c94386-fc73-4659-86b8-12d5a6e49a5a",
   "metadata": {},
   "outputs": [
    {
     "data": {
      "text/plain": [
       "(array([3.874032e+06, 9.920965e+06, 7.304320e+05, 6.124100e+04,\n",
       "        2.677100e+04, 1.450700e+04, 4.562000e+03, 2.609000e+03,\n",
       "        1.001000e+03, 1.190000e+02]),\n",
       " array([  6.39304395,  58.32547886, 110.25791377, 162.19034868,\n",
       "        214.12278359, 266.05521851, 317.98765342, 369.92008833,\n",
       "        421.85252324, 473.78495815, 525.71739306]),\n",
       " <BarContainer object of 10 artists>)"
      ]
     },
     "execution_count": 58,
     "metadata": {},
     "output_type": "execute_result"
    },
    {
     "data": {
      "image/png": "[encoded data removed]",
      "text/plain": [
       "<Figure size 720x720 with 1 Axes>"
      ]
     },
     "metadata": {
      "needs_background": "light"
     },
     "output_type": "display_data"
    }
   ],
   "source": [
    "tp.quiet()  # Turn off progress reports for best performance\n",
    "t1 = tp.link(t, 4, memory=2, )\n",
    "plt.title('After linking')\n",
    "plt.xlabel('Particle intensity')\n",
    "plt.ylabel('Particle count')\n",
    "plt.hist(t1['mass'])"
   ]
  },
  {
   "cell_type": "code",
   "execution_count": 59,
   "id": "f0f97814-3d67-46a0-9613-230df93956ee",
   "metadata": {},
   "outputs": [
    {
     "data": {
      "text/plain": [
       "(array([4.511190e+05, 1.069432e+06, 1.009160e+05, 1.667300e+04,\n",
       "        8.942000e+03, 5.858000e+03, 3.230000e+03, 2.224000e+03,\n",
       "        8.560000e+02, 1.040000e+02]),\n",
       " array([  7.85291762,  59.63936516, 111.42581271, 163.21226025,\n",
       "        214.9987078 , 266.78515534, 318.57160288, 370.35805043,\n",
       "        422.14449797, 473.93094552, 525.71739306]),\n",
       " <BarContainer object of 10 artists>)"
      ]
     },
     "execution_count": 59,
     "metadata": {},
     "output_type": "execute_result"
    },
    {
     "data": {
      "image/png": "[encoded data removed]",
      "text/plain": [
       "<Figure size 720x720 with 1 Axes>"
      ]
     },
     "metadata": {
      "needs_background": "light"
     },
     "output_type": "display_data"
    }
   ],
   "source": [
    "t2 = tp.filter_stubs(t1, 15)\n",
    "plt.title('After filtering out spurious particles')\n",
    "plt.xlabel('Particle intensity')\n",
    "plt.ylabel('Particle count')\n",
    "plt.hist(t2['mass'])"
   ]
  },
  {
   "cell_type": "code",
   "execution_count": 60,
   "id": "c98e60c4-5b94-4421-90b3-889b85cdc5e8",
   "metadata": {},
   "outputs": [
    {
     "data": {
      "text/plain": [
       "(array([6235., 5013., 4062., 2778., 1921., 1633., 1174.,  554.,  191.,\n",
       "          21.]),\n",
       " array([200.00149893, 232.57308835, 265.14467776, 297.71626717,\n",
       "        330.28785658, 362.859446  , 395.43103541, 428.00262482,\n",
       "        460.57421424, 493.14580365, 525.71739306]),\n",
       " <BarContainer object of 10 artists>)"
      ]
     },
     "execution_count": 60,
     "metadata": {},
     "output_type": "execute_result"
    },
    {
     "data": {
      "image/png": "[encoded data removed]",
      "text/plain": [
       "<Figure size 720x720 with 1 Axes>"
      ]
     },
     "metadata": {
      "needs_background": "light"
     },
     "output_type": "display_data"
    }
   ],
   "source": [
    "t3 = t2[((t2['mass'] > 200) & (t2['size'] < 2.6) &\n",
    "         (t2['ecc'] < 0.5))]\n",
    "plt.title('Selecting certain size and ecc')\n",
    "plt.xlabel('Particle intensity')\n",
    "plt.ylabel('Particle count')\n",
    "plt.hist(t3['mass'])"
   ]
  },
  {
   "cell_type": "markdown",
   "id": "7a59b05c-df11-4008-b19f-cd973bfa8092",
   "metadata": {},
   "source": [
    "Change to other frames sequence"
   ]
  },
  {
   "cell_type": "code",
   "execution_count": 21,
   "id": "452f5c9d-06cd-4749-8136-b5a991a36dca",
   "metadata": {},
   "outputs": [
    {
     "data": {
      "text/plain": [
       "(array([2.42730e+04, 1.70978e+05, 6.42240e+04, 1.76720e+04, 7.74700e+03,\n",
       "        2.45200e+03, 5.51000e+02, 9.10000e+01, 1.00000e+01, 2.00000e+00]),\n",
       " array([ 40.97535743,  86.87438955, 132.77342167, 178.6724538 ,\n",
       "        224.57148592, 270.47051804, 316.36955016, 362.26858229,\n",
       "        408.16761441, 454.06664653, 499.96567865]),\n",
       " <BarContainer object of 10 artists>)"
      ]
     },
     "execution_count": 21,
     "metadata": {},
     "output_type": "execute_result"
    },
    {
     "data": {
      "image/png": "[encoded data removed]",
      "text/plain": [
       "<Figure size 360x360 with 1 Axes>"
      ]
     },
     "metadata": {
      "needs_background": "light"
     },
     "output_type": "display_data"
    }
   ],
   "source": [
    "# t_a = tp.batch(frames1[:], 5, minmass=100, separation=15)\n",
    "t_a = tp.batch(frames1[:], 5, separation=25)\n",
    "\n",
    "plt.title('Raw data: all frames without BG subtraction')\n",
    "plt.xlabel('Particle intensity')\n",
    "plt.ylabel('Particle count')\n",
    "plt.hist(t_a['mass'], color='red')"
   ]
  },
  {
   "cell_type": "code",
   "execution_count": 22,
   "id": "c1fdd814-5c7b-4b4b-acec-5610070459fb",
   "metadata": {},
   "outputs": [
    {
     "data": {
      "text/plain": [
       "(array([2.42730e+04, 1.70978e+05, 6.42240e+04, 1.76720e+04, 7.74700e+03,\n",
       "        2.45200e+03, 5.51000e+02, 9.10000e+01, 1.00000e+01, 2.00000e+00]),\n",
       " array([ 40.97535743,  86.87438955, 132.77342167, 178.6724538 ,\n",
       "        224.57148592, 270.47051804, 316.36955016, 362.26858229,\n",
       "        408.16761441, 454.06664653, 499.96567865]),\n",
       " <BarContainer object of 10 artists>)"
      ]
     },
     "execution_count": 22,
     "metadata": {},
     "output_type": "execute_result"
    },
    {
     "data": {
      "image/png": "[encoded data removed]",
      "text/plain": [
       "<Figure size 360x360 with 1 Axes>"
      ]
     },
     "metadata": {
      "needs_background": "light"
     },
     "output_type": "display_data"
    }
   ],
   "source": [
    "tp.quiet()  # Turn off progress reports for best performance\n",
    "t_b = tp.link(t_a, 4, memory=2, )\n",
    "plt.title('After linking')\n",
    "plt.xlabel('Particle intensity')\n",
    "plt.ylabel('Particle count')\n",
    "plt.hist(t_b['mass'], color='red')"
   ]
  },
  {
   "cell_type": "code",
   "execution_count": 25,
   "id": "88ec6f5b-b6f4-43e7-8db1-d4da493b6215",
   "metadata": {},
   "outputs": [
    {
     "data": {
      "text/plain": [
       "(array([ 31.,  39.,  70.,  98., 175., 237., 289., 339., 380., 483., 504.,\n",
       "        521., 599., 600., 594., 612., 577., 533., 520., 492., 424., 356.,\n",
       "        280., 250., 229., 169., 134.,  87.,  62.,  33.,  26.,  21.,   7.,\n",
       "          9.,   3.,   1.,   3.,   1.,   1.,   1.]),\n",
       " array([ 89.47461763,  98.41576129, 107.35690494, 116.29804859,\n",
       "        125.23919225, 134.1803359 , 143.12147955, 152.06262321,\n",
       "        161.00376686, 169.94491051, 178.88605417, 187.82719782,\n",
       "        196.76834147, 205.70948513, 214.65062878, 223.59177243,\n",
       "        232.53291609, 241.47405974, 250.4152034 , 259.35634705,\n",
       "        268.2974907 , 277.23863436, 286.17977801, 295.12092166,\n",
       "        304.06206532, 313.00320897, 321.94435262, 330.88549628,\n",
       "        339.82663993, 348.76778358, 357.70892724, 366.65007089,\n",
       "        375.59121454, 384.5323582 , 393.47350185, 402.4146455 ,\n",
       "        411.35578916, 420.29693281, 429.23807646, 438.17922012,\n",
       "        447.12036377]),\n",
       " <BarContainer object of 40 artists>)"
      ]
     },
     "execution_count": 25,
     "metadata": {},
     "output_type": "execute_result"
    },
    {
     "data": {
      "image/png": "[encoded data removed]",
      "text/plain": [
       "<Figure size 360x360 with 1 Axes>"
      ]
     },
     "metadata": {
      "needs_background": "light"
     },
     "output_type": "display_data"
    }
   ],
   "source": [
    "t_c = tp.filter_stubs(t_b, 15)\n",
    "plt.title('After filtering out spurious particles')\n",
    "plt.xlabel('Particle intensity')\n",
    "plt.ylabel('Particle count')\n",
    "plt.hist(t_c['mass'], color='red', bins=40)"
   ]
  },
  {
   "cell_type": "code",
   "execution_count": 26,
   "id": "6a49d857-637f-436d-97da-9e78b625f9b6",
   "metadata": {},
   "outputs": [
    {
     "data": {
      "text/plain": [
       "(array([ 94., 131., 199., 234., 263., 310., 394., 391., 417., 513., 503.,\n",
       "        548., 488., 545., 494., 491., 466., 448., 399., 339., 265., 229.,\n",
       "        227., 192., 149.,  97.,  85.,  54.,  31.,  22.,  24.,   6.,   9.,\n",
       "          2.,   4.,   1.,   3.,   0.,   1.,   1.]),\n",
       " array([120.03399487, 128.21115409, 136.38831332, 144.56547254,\n",
       "        152.74263176, 160.91979098, 169.09695021, 177.27410943,\n",
       "        185.45126865, 193.62842787, 201.8055871 , 209.98274632,\n",
       "        218.15990554, 226.33706476, 234.51422399, 242.69138321,\n",
       "        250.86854243, 259.04570165, 267.22286088, 275.4000201 ,\n",
       "        283.57717932, 291.75433854, 299.93149777, 308.10865699,\n",
       "        316.28581621, 324.46297543, 332.64013466, 340.81729388,\n",
       "        348.9944531 , 357.17161232, 365.34877155, 373.52593077,\n",
       "        381.70308999, 389.88024921, 398.05740844, 406.23456766,\n",
       "        414.41172688, 422.5888861 , 430.76604533, 438.94320455,\n",
       "        447.12036377]),\n",
       " <BarContainer object of 40 artists>)"
      ]
     },
     "execution_count": 26,
     "metadata": {},
     "output_type": "execute_result"
    },
    {
     "data": {
      "image/png": "[encoded data removed]",
      "text/plain": [
       "<Figure size 360x360 with 1 Axes>"
      ]
     },
     "metadata": {
      "needs_background": "light"
     },
     "output_type": "display_data"
    }
   ],
   "source": [
    "t_d = t_c[((t_c['mass'] > 120) & (t_c['size'] < 2.6) &\n",
    "         (t_c['ecc'] < 0.5))]\n",
    "plt.title('Selecting certain size and ecc')\n",
    "plt.xlabel('Particle intensity')\n",
    "plt.ylabel('Particle count')\n",
    "plt.hist(t_d['mass'], color='red', bins=40)"
   ]
  },
  {
   "cell_type": "code",
   "execution_count": null,
   "id": "6d5b6122-3193-4abe-b666-f3802da15370",
   "metadata": {},
   "outputs": [],
   "source": []
  }
 ],
 "metadata": {
  "kernelspec": {
   "display_name": "Python 3",
   "language": "python",
   "name": "python3"
  },
  "language_info": {
   "codemirror_mode": {
    "name": "ipython",
    "version": 3
   },
   "file_extension": ".py",
   "mimetype": "text/x-python",
   "name": "python",
   "nbconvert_exporter": "python",
   "pygments_lexer": "ipython3",
   "version": "3.9.4"
  }
 },
 "nbformat": 4,
 "nbformat_minor": 5
}
