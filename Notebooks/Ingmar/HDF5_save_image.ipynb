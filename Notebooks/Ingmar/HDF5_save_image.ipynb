{
 "cells": [
  {
   "cell_type": "markdown",
   "id": "27bb383d-f19d-4fd4-abe1-9d2f6a4ed5f8",
   "metadata": {},
   "source": [
    "This is a first attempt to read data from an HDF5 file and apply the background correction code on it"
   ]
  },
  {
   "cell_type": "markdown",
   "id": "14e67028-15da-4a73-83a1-4ce990222732",
   "metadata": {},
   "source": [
    "The code directly beneath saves all images to a location on your pc"
   ]
  },
  {
   "cell_type": "code",
   "execution_count": 7,
   "id": "6a20f086-28c7-4c90-ade2-8e78a7b0ef12",
   "metadata": {},
   "outputs": [],
   "source": [
    "import h5py\n",
    "import numpy as np\n",
    "from PIL import Image\n",
    "import matplotlib.pylab as plb\n",
    "import matplotlib.pyplot as plt\n",
    "import os\n",
    "\n",
    "with h5py.File(r\"C:\\Users\\brugg\\Documents\\20220703\\Au_PBS_100nm_landing_gasket_10mW.hdf5\", 'r') as f:\n",
    "    acq = f[\"data/Acquisition_1\"]\n",
    "    image = acq[\"Image\"]\n",
    "    for i in range(len(image)):\n",
    "        frame = np.asarray(image[i],dtype=np.uint8)\n",
    "        im = Image.fromarray(frame, mode=\"L\") #greyscale\n",
    "        im.save(f\"C:\\\\Users\\\\brugg\\\\\\\\Imagesnew\\\\Try6\\\\Image__{i:04}.bmp\") #to new location/folder"
   ]
  },
  {
   "cell_type": "code",
   "execution_count": 1,
   "id": "24117970-a9b8-4251-82bc-0ad629d1c07f",
   "metadata": {},
   "outputs": [
    {
     "ename": "NameError",
     "evalue": "name 'test' is not defined",
     "output_type": "error",
     "traceback": [
      "\u001b[1;31m---------------------------------------------------------------------------\u001b[0m",
      "\u001b[1;31mNameError\u001b[0m                                 Traceback (most recent call last)",
      "\u001b[1;32m<ipython-input-1-4e1243bd22c6>\u001b[0m in \u001b[0;36m<module>\u001b[1;34m\u001b[0m\n\u001b[1;32m----> 1\u001b[1;33m \u001b[0mtest\u001b[0m\u001b[1;33m\u001b[0m\u001b[1;33m\u001b[0m\u001b[0m\n\u001b[0m",
      "\u001b[1;31mNameError\u001b[0m: name 'test' is not defined"
     ]
    }
   ],
   "source": [
    "test"
   ]
  },
  {
   "cell_type": "code",
   "execution_count": 14,
   "id": "c843e8dd-911a-4ec7-a4b7-b8d31dd838be",
   "metadata": {},
   "outputs": [],
   "source": [
    "hf = h5py.File(r\"C:\\Users\\brugg\\Documents\\20220703\\Au_PBS_100nm_landing_gasket_10mW.hdf5\", 'r')"
   ]
  },
  {
   "cell_type": "code",
   "execution_count": 15,
   "id": "5389b697-3a71-44c1-9bdc-88ef5ef18ae9",
   "metadata": {},
   "outputs": [
    {
     "data": {
      "text/plain": [
       "<KeysViewHDF5 ['data']>"
      ]
     },
     "execution_count": 15,
     "metadata": {},
     "output_type": "execute_result"
    }
   ],
   "source": [
    "hf.keys()"
   ]
  },
  {
   "cell_type": "code",
   "execution_count": 16,
   "id": "51138f42-6ac4-4d11-be63-6d50cbc9a6ef",
   "metadata": {},
   "outputs": [
    {
     "name": "stdout",
     "output_type": "stream",
     "text": [
      "data\n"
     ]
    }
   ],
   "source": [
    "for key in hf.keys():\n",
    "    print(key)"
   ]
  },
  {
   "cell_type": "markdown",
   "id": "4f266239-330b-4d73-9a02-8e094dfafb51",
   "metadata": {},
   "source": [
    "This piece of code shows a chosen image from the data"
   ]
  },
  {
   "cell_type": "code",
   "execution_count": 3,
   "id": "62fdd62b-558c-474f-a521-444b410a23b1",
   "metadata": {},
   "outputs": [
    {
     "data": {
      "image/png": "[encoded data removed]",
      "text/plain": [
       "<Figure size 432x288 with 1 Axes>"
      ]
     },
     "metadata": {
      "needs_background": "light"
     },
     "output_type": "display_data"
    }
   ],
   "source": [
    "import h5py\n",
    "import numpy as np\n",
    "import matplotlib.pyplot as plt\n",
    "import pandas as pd\n",
    "with h5py.File(r\"C:\\Users\\brugg\\Documents\\20220703\\Au_PBS_100nm_landing_gasket_10mW.hdf5\", 'r') as f:\n",
    "    DAQ_input = f[\"data/Acquisition_1/DAQ-input\"]\n",
    "    DAQ = np.asarray(DAQ_input)\n",
    "\n",
    "    # position_1 =f[\"data/Acquisition_2/Tracks/x\"]\n",
    "    # position_x = np.asarray(position_1)\n",
    "    # position_2 = f[\"data/Acquisition_2/Tracks/y\"]\n",
    "    # position_y = np.asarray(position_2)\n",
    "\n",
    "    #print(DAQ[0])\n",
    "\n",
    "x = np.arange(0,stop=2000)\n",
    "y = DAQ[150]\n",
    "\n",
    "plt.plot(x,y, linestyle='-',marker='o', markersize=1, alpha=1, label= '@ f = 20 Hz')\n",
    "#plt.plot(position_x,position_y, linestyle='',marker='o', markersize=1, alpha=0.4, label= '@ f = 5 Hz')\n",
    "#plt.axis([-10,len(y_1),-10,max(y_1)+100])\n",
    "#plt.xlim(92,94)\n",
    "#plt.ylim(90, 110)\n",
    "#plt.axis([0,100,0,12000])\n",
    "plt.xlabel('Data points')\n",
    "plt.ylabel('Amplitude')\n",
    "plt.title('DAQ output')\n",
    "plt.legend(loc=\"upper right\")\n",
    "plt.show()"
   ]
  },
  {
   "cell_type": "code",
   "execution_count": null,
   "id": "6a05373b-d56f-4002-a92d-b2733df74470",
   "metadata": {},
   "outputs": [],
   "source": []
  },
  {
   "cell_type": "code",
   "execution_count": 18,
   "id": "36f397fd-1cd1-46bf-8089-9d47ba00061e",
   "metadata": {},
   "outputs": [
    {
     "name": "stdout",
     "output_type": "stream",
     "text": [
      "(2048, 2048, 3)\n"
     ]
    }
   ],
   "source": [
    "import cv2\n",
    "import numpy as np\n",
    "import glob\n",
    "\n",
    "img_array = []\n",
    "for filename in glob.glob(r'C:\\Users\\brugg\\Imagesnew\\Try6\\*.bmp'):\n",
    "    img = cv2.imread(filename)\n",
    "    height, width, layers = img.shape\n",
    "    size = (width, height)\n",
    "    img_array.append(img)\n",
    "print(img.shape)\n",
    "out = cv2.VideoWriter(r'C:\\Users\\brugg\\Imagesnew\\Try6\\project.avi', cv2.VideoWriter_fourcc(*'DIVX'), 15, size)\n",
    "\n",
    "for i in range(len(img_array)):\n",
    "    out.write(img_array[i])\n",
    "\n",
    "out.release()"
   ]
  },
  {
   "cell_type": "code",
   "execution_count": 39,
   "id": "3459b454-9df8-4fc1-9f1d-5e548b21c946",
   "metadata": {},
   "outputs": [
    {
     "name": "stdout",
     "output_type": "stream",
     "text": [
      "1626\n",
      "1626\n"
     ]
    }
   ],
   "source": [
    "import h5py\n",
    "import numpy as np\n",
    "from PIL import Image\n",
    "import matplotlib.pylab as plb\n",
    "import matplotlib.pyplot as plt\n",
    "import os\n",
    "\n",
    "im_array = []\n",
    "\n",
    "with h5py.File(r\"C:\\Users\\brugg\\Documents\\20220703\\Au_PBS_100nm_landing_gasket_10mW.hdf5\", 'r') as f:\n",
    "    acq = f[\"data/Acquisition_1\"]\n",
    "    image = acq[\"Image\"]\n",
    "    for i in range(len(image)):\n",
    "        frame = np.asarray(image[i],dtype=np.uint8)\n",
    "#         print(frame)\n",
    "#     im = Image.fromarray(frame, mode=\"L\") #greyscale\n",
    "        height, width = frame.shape\n",
    "        size = (height,width)\n",
    "        im_array.append(frame)\n",
    "out = cv2.VideoWriter(r'C:\\Users\\brugg\\Imagesnew\\Try6\\project2.avi', cv2.VideoWriter_fourcc(*'DIVX'), 15, size)\n",
    "\n",
    "for i in range(len(im_array)):\n",
    "    out.write(im_array[i])\n",
    "out.release()"
   ]
  },
  {
   "cell_type": "code",
   "execution_count": null,
   "id": "f3bd5100-ae52-4474-8a88-c1b454fe8222",
   "metadata": {},
   "outputs": [],
   "source": []
  }
 ],
 "metadata": {
  "kernelspec": {
   "display_name": "Python 3",
   "language": "python",
   "name": "python3"
  },
  "language_info": {
   "codemirror_mode": {
    "name": "ipython",
    "version": 3
   },
   "file_extension": ".py",
   "mimetype": "text/x-python",
   "name": "python",
   "nbconvert_exporter": "python",
   "pygments_lexer": "ipython3",
   "version": "3.9.4"
  }
 },
 "nbformat": 4,
 "nbformat_minor": 5
}
