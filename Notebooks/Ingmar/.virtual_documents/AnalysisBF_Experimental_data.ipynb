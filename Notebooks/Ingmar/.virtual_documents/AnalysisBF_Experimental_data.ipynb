import av
import numpy as np
import matplotlib.pyplot as plt
import pims
import trackpy
import trackpy as tp
from pims import ImageSequence
from Particledrop import Landing_Flashes


def trackpy_movie(movie, size, mmass):
    nf = movie.shape[0]
    f1 = trackpy.batch(movie[:,:,:], size, minmass=5, invert=False, processes='auto')
    t = trackpy.link(f1, 5, memory=0)
    
    t1 = trackpy.filter_stubs(t, 3)

    t2 = t1.rename(columns={'frame':'Frame'})
#     particles = t2['particle'].nunique()
#     print('Unique particles found:', + particles)
    
    # t2.groupby('Frame')['particle'].nunique().plot(kind='line')
    # plt.yticks(np.arange(0, particles+1, 5.0))
    # plt.xticks(np.arange(0, nf+1, 10.0))
    # plt.title('Number of landed particles over the series of frames')
    # plt.xlabel('Frame number')
    # plt.ylabel('Number of particles')
    # plt.grid()
    # plt.show()
    
    nparticles = []
    frames = np.arange(0,nf,1)

    for i in range(nf):
        temp = t2.loc[t2['Frame'] == i]
        nparticles.append(len(temp))

    plt.figure()
    plt.step(frames,nparticles)
    plt.yticks(np.arange(0, max(nparticles)+1, 2.0))
    plt.xticks(np.arange(0, nf+1, 5.0))
    plt.title('Stepfunction number of landed particles over the series of frames')
    plt.xlabel('Frame number')
    plt.ylabel('Number of particles')
    plt.grid()
    plt.show()
    
    t_hist = t2.drop_duplicates(subset=['particle'])
    plt.title('Found Mass Histogram')
    plt.hist(t_hist['mass'])
    plt.show()
    
#     plt.figure()
#     trackpy.annotate(t2[t2['Frame'] == nf-1], movie[nf-1]);
    
#     return t2, t_hist
    return


plt.rcParams['figure.figsize'] = (10, 10)


video = r"E:\Ingmar\Ingmar\26072022\BFsetup\26072022\300nmlatex_1_to_20000_00002.avi"


container = av.open(video)

for frame in container.decode(video=0):
    frame.to_image().save('Frames1to20000_02/frame%d.jpg' % frame.index)
    frame.to_image()


images = ImageSequence('Frames1to20000_02/frame*.jpg')
length = len(images)
print(length)


@pims.pipeline
def gray(image):
    return image[:, :, 1]  # Take just the green channel


frames1 = gray(pims.open('Frames1to20000_02/*.jpg'))


frames1
nf1 = len(frames1)


frames1[525]


overview1 = tp.locate(frames1[525], 7, minmass=700, separation=15)


overview1


tp.annotate(overview1, frames1[525]);
print(len(overview1['mass']))


fig, ax = plt.subplots()
ax.hist(overview1['mass'], bins=10)

# Optionally, label the axes.
ax.set(xlabel='mass', ylabel='count');


f = tp.batch(frames1[:], 7, minmass=700, maxsize=1.9, noise_size=1.2, separation=15)


tp.quiet()  # Turn off progress reports for best performance
t = tp.link(f, 6, memory=2, )


t1 = tp.filter_stubs(t, 5)
# Compare the number of particles in the unfiltered and filtered data.
print('Before:', t['particle'].nunique())
print('After:', t1['particle'].nunique())


plt.figure()
tp.mass_size(t1.groupby('particle').mean()); # convenience function -- just plots size vs. mass


t2 = t1[((t1['mass'] > 750) & (t1['size'] < 2.6) &
         (t1['ecc'] < 0.5))]


plt.figure()
tp.annotate(t2[t2['frame'] == 366], frames1[366]);


plt.figure()
tp.plot_traj(t2);


startframe = 0
endframe = nf1
startframe2 = 1  # +1 for accounting for the moving average
endframe2 = endframe-startframe

bgcorrected2 = frames1[startframe2:endframe2] - np.mean([frames1[startframe2-1:endframe2-1]])

print(bgcorrected2.shape)  # to check the shape of the array(frames,x,y)


h = tp.batch(bgcorrected2[:], 7)


h
