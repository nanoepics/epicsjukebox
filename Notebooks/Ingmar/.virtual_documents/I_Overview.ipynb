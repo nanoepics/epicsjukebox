import trackpy
import numpy as np
import matplotlib.pyplot as plt
import matplotlib.animation
from matplotlib.animation import FuncAnimation
matplotlib.rcParams['animation.embed_limit'] = 2**128
import time
import pims
import math
from math import cos, exp, pi
from scipy.integrate import quad

from Particledrop import Landing_Flashes


def execute_amovie(moviedata):
    plt.rcParams["animation.html"] = "jshtml"
    plt.rcParams['figure.dpi'] = 100  
    plt.ioff()
    
    fig = plt.figure()
    axis = plt.axes()
    
    film = plt.imshow(moviedata[0])
    
    def init(): 
        film.set_data(moviedata[0])
        return [film]
    
    def animate(i):
        film.set_array(moviedata[i])
        return [film]
    
    anim = FuncAnimation(fig, animate, frames = moviedata.shape[0], init_func = init, interval = 500, blit = True)

    return anim


nf = 20  # define how many frames make up the simulation
fov = [200, 300]  # define the parameters of the field-of-view, pixels
movies = []

for i in range(20,30):
    meas = Landing_Flashes(fov=fov, seed=i, numpar=10, noise=0.1, nframes=nf, signal=20, sizevar=0.2, dark=5, psize=4, unevenIllumination=False)
    for j in [0,0.1,1,10,20]:
        meas.noise = j  
        plis = meas.parlist
        movie = meas.genStack()
#         print(np.shape(plis))
#         print(i, j)
        movies.append(movie)
testframe = nf
print(np.shape(movies))


execute_amovie(movies[9])


#This function makes a Histogram of all intensities in a movie. Use this 
def Histogram_intensities(movie):
    movielist = movie.flatten()

    fig, ax = plt.subplots()
    plt.title('Intensities in movie:')
    ax.hist(movielist, bins = 30)
    
def Cutoff_movie(movie, cutoff):
    movie_cutoff = np.where(movie < cutoff, 0, movie)
    return movie_cutoff

#For the Fourier transform, it's good to start with images before doing the entire movie
#These are functions for Fourier transforming and plotting an image
from scipy import fftpack
def fft_img(img):
    im_fft = fftpack.fft2(img)
    return im_fft

def plot_spectrum(im_fft):
    from matplotlib.colors import LogNorm
    # A logarithmic colormap
    plt.figure()
    plt.title('Fourier transform')
    plt.imshow(np.abs(im_fft), norm=LogNorm(vmin=5))
    plt.colorbar()

#This function cuts off a lot of the fft, it keeps a given fraction in the corners (stolen from internet)
#and returns the reconstructed image from that cutoff

# Define the fraction of coefficients (in each direction) we keep: keep_fraction

def fft_cutoff(im_fft, keep_fraction):
    # In the lines following, we'll make a copy of the original spectrum and
    # truncate coefficients.
    
    # Call ff a copy of the original transform. Numpy arrays have a copy
    # method for this purpose.
    im_fft2 = im_fft.copy()

    # Set r and c to be the number of rows and columns of the array.
    r, c = im_fft2.shape

    # Set to zero all rows with indices between r*keep_fraction and
    # r*(1-keep_fraction):
    im_fft2[int(r*keep_fraction):int(r*(1-keep_fraction))] = 0

    # Similarly with the columns:
    im_fft2[:, int(c*keep_fraction):int(c*(1-keep_fraction))] = 0

    plt.figure()
    plot_spectrum(im_fft2)
    plt.title('Filtered Spectrum')
    
    # Reconstruct the denoised image from the filtered spectrum, keep only the
    # real part for display.
    im_new = fftpack.ifft2(im_fft2).real

    plt.figure()
    plt.imshow(im_new)
    plt.title('Reconstructed Image')
    return im_new

def fft_cutoff_noplot(im_fft, keep_fraction):
    im_fft2 = im_fft.copy()
    r, c = im_fft2.shape
    im_fft2[int(r*keep_fraction):int(r*(1-keep_fraction))] = 0
    im_fft2[:, int(c*keep_fraction):int(c*(1-keep_fraction))] = 0
    im_new = fftpack.ifft2(im_fft2).real
    return im_new
    
def fft_cutoff_movie(movie, keep_fraction):
    keepfraction = keep_fraction
    movie_new = []
    for i in range(movie.shape[0]):
        img = movie[i]
        img_new = fft_cutoff_noplot(img, keepfraction)
        movie_new.append(img_new)
    movie_new = np.asarray(movie_new)
    return movie_new

def trackpy_movie(movie, size, mmass):
    nf = movie.shape[0]
    f1 = trackpy.batch(movie[:,:,:], size, minmass=mmass, invert=False, processes='auto')
    t = trackpy.link(f1, 5, memory=0)
    
    t1 = trackpy.filter_stubs(t, 3)

    t2 = t1.rename(columns={'frame':'Frame'})
#     particles = t2['particle'].nunique()
#     print('Unique particles found:', + particles)
    
    # t2.groupby('Frame')['particle'].nunique().plot(kind='line')
    # plt.yticks(np.arange(0, particles+1, 5.0))
    # plt.xticks(np.arange(0, nf+1, 10.0))
    # plt.title('Number of landed particles over the series of frames')
    # plt.xlabel('Frame number')
    # plt.ylabel('Number of particles')
    # plt.grid()
    # plt.show()
    
    nparticles = []
    frames = np.arange(0,nf,1)

    for i in range(nf):
        temp = t2.loc[t2['Frame'] == i]
        nparticles.append(len(temp))

    plt.figure()
    plt.step(frames,nparticles)
    plt.yticks(np.arange(0, max(nparticles)+1, 2.0))
    plt.xticks(np.arange(0, nf+1, 5.0))
    plt.title('Stepfunction number of landed particles over the series of frames')
    plt.xlabel('Frame number')
    plt.ylabel('Number of particles')
    plt.grid()
    plt.show()
    
    t_hist = t2.drop_duplicates(subset=['particle'])
    plt.title('Found Mass Histogram')
    plt.hist(t_hist['mass'])
    plt.show()
    
#     plt.figure()
#     trackpy.annotate(t2[t2['Frame'] == nf-1], movie[nf-1]);
    
#     return t2, t_hist
    return


trackpy_movie(movies[49],7,40)


# Quick show of the last simulated frame
plt.imshow(movie[-1, :, :])
plt.title('Last frame from simulation')
plt.figure()

# Quick particle count on last frame
list1 = plis[:, 2]
numpar = len(list1)
f = trackpy.locate(movie[-1,:,:], 7, minmass= 40, invert =False)
plt.title('Last frame with trackpy locate')
trackpy.annotate(f, movie[-1,:,:]);
print(len(f['mass']))
if len(f['mass']) == numpar:
    print('Great work, all particles are found')
elif len(f['mass']) < numpar:
    difference = numpar-len(f['mass'])
    print('Not all particles are located, perhaps change some parameters. The difference is '+str(difference))
else:
    print('Oops, more particles are found than started. This is not posible.')


plt.title('Simulated Size histogram')
plt.hist(plis[:,2])


f_1 = trackpy.batch(movie[:,:,:], 7, minmass=40, invert=False, processes='auto')
t = trackpy.link(f_1, 11, memory=1) #  the first integer represents the maximum distance particles can move between frames, 
#memory shows the number of frames in which a particle can vanish and reappear shortly afterwards, to be considered the same particle. 
print(t['particle'].nunique())


startframe = 0
endframe = nf 
startframe2 = 1 # +1 for accounting for the moving average
endframe2 = endframe-startframe

bgcorrected1 = sig[startframe2:endframe2,:,:] - np.mean([sig[startframe2-1:endframe2-1,:,:]], axis = 0)
print(bgcorrected1.shape) # to check the shape of the array(frames,x,y)

execute_amovie(bgcorrected1)


startframe = 0
endframe = nf 
startframe2 = 6  # +1 for accounting for the moving average
endframe2 = endframe-startframe

bgcorrected2 = sig[startframe2:endframe2,:,:] - np.mean([sig[startframe2-1:endframe2-1,:,:],
                                                        sig[startframe2-2:endframe2-2,:,:],
                                                        sig[startframe2-3:endframe2-3,:,:],
                                                        sig[startframe2-4:endframe2-4,:,:],
                                                        sig[startframe2-5:endframe2-5,:,:]], axis = 0)
print(bgcorrected2.shape) # to check the shape of the array(frames,x,y)
execute_amovie(bgcorrected2)


# for i in np.arange(0,bgcorrected.shape[0]): #decomment to show individual frames
#     im=plt.imshow(bgcorrected[i,:,:])
#     plt.title(f'Frame no.{i}: Difference between frame no.{i+1} and frame no.{i}')
#     plt.colorbar()
#     plt.pause(0.01)
#     plt.show()


particlelist = []
array = []
for i in np.arange(0, bgcorrected1.shape[0]):
    plt.title(f'Trackpy locate on frame no.{i}')
    f = trackpy.locate(bgcorrected1[i, :, :], 7, minmass=40, invert=False) # 7 = the est. pixel size, minmass = intensity 
    trackpy.annotate(f, bgcorrected1[i, :, :])
    particleframe = len(f['mass'])
    if len(f['mass']) != 0:
        print('A non-zero value!, namely '+str(particleframe))
        particlelist.append(len(f['mass']))
        array.append(i)
    else:
        print('No particles located in this frame!')

allparticles = sum(particlelist)
print('The total number of landed particles = '+str(allparticles))
print(particlelist)
print(array)


# print(array)  # on which frame are particles found
# print(particlelist)  # number of counts
cdf = np.cumsum(particlelist)
# plt.figure(figsize=(20,20))  # use larger figsize if the number of frames is high
plt.step(array, cdf)
plt.title('Cumulative number of landed particles over the series of frames')
plt.xlabel('Frame number')
plt.ylabel('Number of particles')
plt.xticks(np.arange(0, max(array)+1, 1.0))
plt.yticks(np.arange(0, max(cdf)+1, 1.0))
plt.grid()
plt.show()


# x = np.array([0,10,20])
for i in range(0,18):
    x = np.array([i])
    
    y = np.array([i//2])

a,b = np.polyfit(x,y,1)
plt.scatter(x,y)
plt.plot(x,a*x+b, color='steelblue', linestyle='--', linewidth=2)
plt.text(1, 9, 'y = ' + '{:.2f}'.format(b) + ' + {:.2f}'.format(a) + 'x', size=14)
plt.show()


f_2 = trackpy.batch(bgcorrected2[:,:,:], 7, minmass=40, invert=False, processes='auto')


f_2


def Simple_backgroundcor(sig):
    bg = np.median(sig, axis=0)

    backgroundcor = np.zeros((nf, sig[0].shape[0], sig[0].shape[1]))

    dark = np.ones((fov))*5
    for i in range(nf):
        backgroundcor[i] = (sig[i] - bg)/(bg-dark)

    #  Set negative values to 0 
    backgroundcor[backgroundcor < 0] = 0

    return backgroundcor


Simple_backgroundcor(sig)
execute_amovie(Simple_backgroundcor(sig))


Histogram_intensities(bgcorrected)


movie_cutoff = Cutoff_movie(movie, 11)
execute_amovie(movie_cutoff)


img = sig[59]
im_fft = fft_img(img)

plt.figure()
plt.imshow(img)

plot_spectrum(im_fft)


#Remember, the number you put into this is the fraction to keep
fft_cutoff(im_fft, 0.10)
