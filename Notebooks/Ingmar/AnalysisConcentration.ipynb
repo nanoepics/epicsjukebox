{
 "cells": [
  {
   "cell_type": "code",
   "execution_count": 2,
   "id": "3ec8581b-3a80-4a3a-9b8c-24afdb72fd90",
   "metadata": {},
   "outputs": [],
   "source": [
    "import numpy as np\n",
    "import matplotlib.pyplot as plt"
   ]
  },
  {
   "cell_type": "markdown",
   "id": "8d20a4d6-1dd8-4fad-ae7a-98eea90240f2",
   "metadata": {},
   "source": [
    "This short notebook calculates the concentration of particles from experimental data"
   ]
  },
  {
   "cell_type": "markdown",
   "id": "11169984-4b86-49a1-8a0c-dee3e65bc93e",
   "metadata": {},
   "source": [
    "Initial conditions"
   ]
  },
  {
   "cell_type": "code",
   "execution_count": 3,
   "id": "b4505868-510d-4538-9299-658601486ee4",
   "metadata": {},
   "outputs": [],
   "source": [
    "dimensionx = 65e-4  # cm\n",
    "dimensiony = 65e-4  # cm\n",
    "dimensionz = 0.1  # cm, varies"
   ]
  },
  {
   "cell_type": "code",
   "execution_count": 7,
   "id": "1cfed57c-e5dc-4b8b-8294-b610f8e92b9b",
   "metadata": {},
   "outputs": [],
   "source": [
    "dilution = [10000, 20000, 30000, 40000, 50000, 60000, 100000]"
   ]
  },
  {
   "cell_type": "code",
   "execution_count": 8,
   "id": "0454e052-1058-4933-a93f-ebec5a8e0d8e",
   "metadata": {},
   "outputs": [],
   "source": [
    "numpar_exp = [200, 500, 60, 250, 100, 200]"
   ]
  },
  {
   "cell_type": "code",
   "execution_count": 9,
   "id": "5dabcfc5-dbb2-4b7b-a200-58b74213db65",
   "metadata": {},
   "outputs": [],
   "source": [
    "numpar_tp = [192, 75, 60, 43, 37, 25]\n",
    "numpar_tp_link = [153, 332, 384, 182, 68, 140]"
   ]
  },
  {
   "cell_type": "code",
   "execution_count": 10,
   "id": "a45b866f-7167-43e8-9c07-2cbdaa1f16a0",
   "metadata": {},
   "outputs": [
    {
     "name": "stdout",
     "output_type": "stream",
     "text": [
      "The volume is equal to 4.23E-06 cm^3\n"
     ]
    }
   ],
   "source": [
    "volume = dimensionx * dimensiony * dimensionz\n",
    "print('The volume is equal to '+str(format(volume, '.2E' )+' cm^3'))"
   ]
  },
  {
   "cell_type": "code",
   "execution_count": 11,
   "id": "80415cc3-51b2-4954-b020-67abd9067b34",
   "metadata": {},
   "outputs": [],
   "source": [
    "list1 = []\n",
    "list2 = []\n",
    "list3 = []\n",
    "for i in numpar_exp:\n",
    "    conc_dilution = i / volume\n",
    "#     print(i, conc_dilution)\n",
    "    list1.append(conc_dilution)\n",
    "for j in numpar_tp:\n",
    "    conc_dilution2 = j / volume\n",
    "#     print(j, conc_dilution2)\n",
    "    list2.append(conc_dilution2)\n",
    "for k in numpar_tp_link:\n",
    "    conc_dilution3 = k / volume\n",
    "#     print(k, conc_dilution3)\n",
    "    list3.append(conc_dilution3)"
   ]
  },
  {
   "cell_type": "code",
   "execution_count": 12,
   "id": "d4168403-3eaa-486e-a8a6-e5d3fc30d0dc",
   "metadata": {},
   "outputs": [],
   "source": [
    "plt.rcParams['figure.figsize'] = (8, 5)"
   ]
  },
  {
   "cell_type": "code",
   "execution_count": 13,
   "id": "335a48e9-0a01-41ec-991f-e6b12bcb7273",
   "metadata": {},
   "outputs": [
    {
     "ename": "ValueError",
     "evalue": "x and y must be the same size",
     "output_type": "error",
     "traceback": [
      "\u001b[1;31m---------------------------------------------------------------------------\u001b[0m",
      "\u001b[1;31mValueError\u001b[0m                                Traceback (most recent call last)",
      "\u001b[1;32m<ipython-input-13-dba520aba414>\u001b[0m in \u001b[0;36m<module>\u001b[1;34m\u001b[0m\n\u001b[1;32m----> 1\u001b[1;33m \u001b[0mplt\u001b[0m\u001b[1;33m.\u001b[0m\u001b[0mscatter\u001b[0m\u001b[1;33m(\u001b[0m\u001b[0mdilution\u001b[0m\u001b[1;33m,\u001b[0m \u001b[0mlist1\u001b[0m\u001b[1;33m,\u001b[0m \u001b[0mlabel\u001b[0m\u001b[1;33m=\u001b[0m\u001b[1;34m'After 1 day, tp.locate'\u001b[0m\u001b[1;33m)\u001b[0m\u001b[1;33m\u001b[0m\u001b[1;33m\u001b[0m\u001b[0m\n\u001b[0m\u001b[0;32m      2\u001b[0m \u001b[0mplt\u001b[0m\u001b[1;33m.\u001b[0m\u001b[0mscatter\u001b[0m\u001b[1;33m(\u001b[0m\u001b[0mdilution\u001b[0m\u001b[1;33m,\u001b[0m \u001b[0mlist2\u001b[0m\u001b[1;33m,\u001b[0m \u001b[0mlabel\u001b[0m\u001b[1;33m=\u001b[0m\u001b[1;34m'Image direct after injecting liquid, only tp.locate'\u001b[0m\u001b[1;33m)\u001b[0m\u001b[1;33m\u001b[0m\u001b[1;33m\u001b[0m\u001b[0m\n\u001b[0;32m      3\u001b[0m \u001b[0mplt\u001b[0m\u001b[1;33m.\u001b[0m\u001b[0mscatter\u001b[0m\u001b[1;33m(\u001b[0m\u001b[0mdilution\u001b[0m\u001b[1;33m,\u001b[0m \u001b[0mlist3\u001b[0m\u001b[1;33m,\u001b[0m \u001b[0mlabel\u001b[0m\u001b[1;33m=\u001b[0m\u001b[1;34m'Image direct after injecting liquid, tp.locate and tp.link'\u001b[0m\u001b[1;33m)\u001b[0m\u001b[1;33m\u001b[0m\u001b[1;33m\u001b[0m\u001b[0m\n\u001b[0;32m      4\u001b[0m \u001b[1;33m\u001b[0m\u001b[0m\n\u001b[0;32m      5\u001b[0m \u001b[0mplt\u001b[0m\u001b[1;33m.\u001b[0m\u001b[0mxlabel\u001b[0m\u001b[1;33m(\u001b[0m\u001b[1;34m'Dilution'\u001b[0m\u001b[1;33m)\u001b[0m\u001b[1;33m\u001b[0m\u001b[1;33m\u001b[0m\u001b[0m\n",
      "\u001b[1;32m~\\Downloads\\WPy64-3940\\python-3.9.4.amd64\\lib\\site-packages\\matplotlib\\pyplot.py\u001b[0m in \u001b[0;36mscatter\u001b[1;34m(x, y, s, c, marker, cmap, norm, vmin, vmax, alpha, linewidths, edgecolors, plotnonfinite, data, **kwargs)\u001b[0m\n\u001b[0;32m   3035\u001b[0m         \u001b[0mvmin\u001b[0m\u001b[1;33m=\u001b[0m\u001b[1;32mNone\u001b[0m\u001b[1;33m,\u001b[0m \u001b[0mvmax\u001b[0m\u001b[1;33m=\u001b[0m\u001b[1;32mNone\u001b[0m\u001b[1;33m,\u001b[0m \u001b[0malpha\u001b[0m\u001b[1;33m=\u001b[0m\u001b[1;32mNone\u001b[0m\u001b[1;33m,\u001b[0m \u001b[0mlinewidths\u001b[0m\u001b[1;33m=\u001b[0m\u001b[1;32mNone\u001b[0m\u001b[1;33m,\u001b[0m \u001b[1;33m*\u001b[0m\u001b[1;33m,\u001b[0m\u001b[1;33m\u001b[0m\u001b[1;33m\u001b[0m\u001b[0m\n\u001b[0;32m   3036\u001b[0m         edgecolors=None, plotnonfinite=False, data=None, **kwargs):\n\u001b[1;32m-> 3037\u001b[1;33m     __ret = gca().scatter(\n\u001b[0m\u001b[0;32m   3038\u001b[0m         \u001b[0mx\u001b[0m\u001b[1;33m,\u001b[0m \u001b[0my\u001b[0m\u001b[1;33m,\u001b[0m \u001b[0ms\u001b[0m\u001b[1;33m=\u001b[0m\u001b[0ms\u001b[0m\u001b[1;33m,\u001b[0m \u001b[0mc\u001b[0m\u001b[1;33m=\u001b[0m\u001b[0mc\u001b[0m\u001b[1;33m,\u001b[0m \u001b[0mmarker\u001b[0m\u001b[1;33m=\u001b[0m\u001b[0mmarker\u001b[0m\u001b[1;33m,\u001b[0m \u001b[0mcmap\u001b[0m\u001b[1;33m=\u001b[0m\u001b[0mcmap\u001b[0m\u001b[1;33m,\u001b[0m \u001b[0mnorm\u001b[0m\u001b[1;33m=\u001b[0m\u001b[0mnorm\u001b[0m\u001b[1;33m,\u001b[0m\u001b[1;33m\u001b[0m\u001b[1;33m\u001b[0m\u001b[0m\n\u001b[0;32m   3039\u001b[0m         \u001b[0mvmin\u001b[0m\u001b[1;33m=\u001b[0m\u001b[0mvmin\u001b[0m\u001b[1;33m,\u001b[0m \u001b[0mvmax\u001b[0m\u001b[1;33m=\u001b[0m\u001b[0mvmax\u001b[0m\u001b[1;33m,\u001b[0m \u001b[0malpha\u001b[0m\u001b[1;33m=\u001b[0m\u001b[0malpha\u001b[0m\u001b[1;33m,\u001b[0m \u001b[0mlinewidths\u001b[0m\u001b[1;33m=\u001b[0m\u001b[0mlinewidths\u001b[0m\u001b[1;33m,\u001b[0m\u001b[1;33m\u001b[0m\u001b[1;33m\u001b[0m\u001b[0m\n",
      "\u001b[1;32m~\\Downloads\\WPy64-3940\\python-3.9.4.amd64\\lib\\site-packages\\matplotlib\\__init__.py\u001b[0m in \u001b[0;36minner\u001b[1;34m(ax, data, *args, **kwargs)\u001b[0m\n\u001b[0;32m   1350\u001b[0m     \u001b[1;32mdef\u001b[0m \u001b[0minner\u001b[0m\u001b[1;33m(\u001b[0m\u001b[0max\u001b[0m\u001b[1;33m,\u001b[0m \u001b[1;33m*\u001b[0m\u001b[0margs\u001b[0m\u001b[1;33m,\u001b[0m \u001b[0mdata\u001b[0m\u001b[1;33m=\u001b[0m\u001b[1;32mNone\u001b[0m\u001b[1;33m,\u001b[0m \u001b[1;33m**\u001b[0m\u001b[0mkwargs\u001b[0m\u001b[1;33m)\u001b[0m\u001b[1;33m:\u001b[0m\u001b[1;33m\u001b[0m\u001b[1;33m\u001b[0m\u001b[0m\n\u001b[0;32m   1351\u001b[0m         \u001b[1;32mif\u001b[0m \u001b[0mdata\u001b[0m \u001b[1;32mis\u001b[0m \u001b[1;32mNone\u001b[0m\u001b[1;33m:\u001b[0m\u001b[1;33m\u001b[0m\u001b[1;33m\u001b[0m\u001b[0m\n\u001b[1;32m-> 1352\u001b[1;33m             \u001b[1;32mreturn\u001b[0m \u001b[0mfunc\u001b[0m\u001b[1;33m(\u001b[0m\u001b[0max\u001b[0m\u001b[1;33m,\u001b[0m \u001b[1;33m*\u001b[0m\u001b[0mmap\u001b[0m\u001b[1;33m(\u001b[0m\u001b[0msanitize_sequence\u001b[0m\u001b[1;33m,\u001b[0m \u001b[0margs\u001b[0m\u001b[1;33m)\u001b[0m\u001b[1;33m,\u001b[0m \u001b[1;33m**\u001b[0m\u001b[0mkwargs\u001b[0m\u001b[1;33m)\u001b[0m\u001b[1;33m\u001b[0m\u001b[1;33m\u001b[0m\u001b[0m\n\u001b[0m\u001b[0;32m   1353\u001b[0m \u001b[1;33m\u001b[0m\u001b[0m\n\u001b[0;32m   1354\u001b[0m         \u001b[0mbound\u001b[0m \u001b[1;33m=\u001b[0m \u001b[0mnew_sig\u001b[0m\u001b[1;33m.\u001b[0m\u001b[0mbind\u001b[0m\u001b[1;33m(\u001b[0m\u001b[0max\u001b[0m\u001b[1;33m,\u001b[0m \u001b[1;33m*\u001b[0m\u001b[0margs\u001b[0m\u001b[1;33m,\u001b[0m \u001b[1;33m**\u001b[0m\u001b[0mkwargs\u001b[0m\u001b[1;33m)\u001b[0m\u001b[1;33m\u001b[0m\u001b[1;33m\u001b[0m\u001b[0m\n",
      "\u001b[1;32m~\\Downloads\\WPy64-3940\\python-3.9.4.amd64\\lib\\site-packages\\matplotlib\\axes\\_axes.py\u001b[0m in \u001b[0;36mscatter\u001b[1;34m(self, x, y, s, c, marker, cmap, norm, vmin, vmax, alpha, linewidths, edgecolors, plotnonfinite, **kwargs)\u001b[0m\n\u001b[0;32m   4476\u001b[0m         \u001b[0my\u001b[0m \u001b[1;33m=\u001b[0m \u001b[0mnp\u001b[0m\u001b[1;33m.\u001b[0m\u001b[0mma\u001b[0m\u001b[1;33m.\u001b[0m\u001b[0mravel\u001b[0m\u001b[1;33m(\u001b[0m\u001b[0my\u001b[0m\u001b[1;33m)\u001b[0m\u001b[1;33m\u001b[0m\u001b[1;33m\u001b[0m\u001b[0m\n\u001b[0;32m   4477\u001b[0m         \u001b[1;32mif\u001b[0m \u001b[0mx\u001b[0m\u001b[1;33m.\u001b[0m\u001b[0msize\u001b[0m \u001b[1;33m!=\u001b[0m \u001b[0my\u001b[0m\u001b[1;33m.\u001b[0m\u001b[0msize\u001b[0m\u001b[1;33m:\u001b[0m\u001b[1;33m\u001b[0m\u001b[1;33m\u001b[0m\u001b[0m\n\u001b[1;32m-> 4478\u001b[1;33m             \u001b[1;32mraise\u001b[0m \u001b[0mValueError\u001b[0m\u001b[1;33m(\u001b[0m\u001b[1;34m\"x and y must be the same size\"\u001b[0m\u001b[1;33m)\u001b[0m\u001b[1;33m\u001b[0m\u001b[1;33m\u001b[0m\u001b[0m\n\u001b[0m\u001b[0;32m   4479\u001b[0m \u001b[1;33m\u001b[0m\u001b[0m\n\u001b[0;32m   4480\u001b[0m         \u001b[1;32mif\u001b[0m \u001b[0ms\u001b[0m \u001b[1;32mis\u001b[0m \u001b[1;32mNone\u001b[0m\u001b[1;33m:\u001b[0m\u001b[1;33m\u001b[0m\u001b[1;33m\u001b[0m\u001b[0m\n",
      "\u001b[1;31mValueError\u001b[0m: x and y must be the same size"
     ]
    },
    {
     "data": {
      "image/png": "[encoded data removed]",
      "text/plain": [
       "<Figure size 576x360 with 1 Axes>"
      ]
     },
     "metadata": {
      "needs_background": "light"
     },
     "output_type": "display_data"
    }
   ],
   "source": [
    "plt.scatter(dilution, list1, label='After 1 day, tp.locate')\n",
    "plt.scatter(dilution, list2, label='Image direct after injecting liquid, only tp.locate')\n",
    "plt.scatter(dilution, list3, label='Image direct after injecting liquid, tp.locate and tp.link')\n",
    "\n",
    "plt.xlabel('Dilution')\n",
    "plt.ylabel('Calculated conc (particles/cm^-3)')\n",
    "plt.title('Experimental concentration')\n",
    "plt.legend()\n",
    "plt.show()\n",
    "plt.savefig('Exp.png')"
   ]
  },
  {
   "cell_type": "markdown",
   "id": "27d17263-a667-4822-991c-9853ffb5c521",
   "metadata": {},
   "source": [
    "From the manufacturer, we got the following information regarding the latex beads"
   ]
  },
  {
   "cell_type": "code",
   "execution_count": 14,
   "id": "8aa816f1-3873-4c8d-9c19-6b4db5fdda4c",
   "metadata": {},
   "outputs": [
    {
     "name": "stdout",
     "output_type": "stream",
     "text": [
      "6.77E+12\n"
     ]
    }
   ],
   "source": [
    "particle_size = 0.3\n",
    "Npar = 1.828e11 / particle_size**3\n",
    "print(format(Npar, '.2E'))"
   ]
  },
  {
   "cell_type": "code",
   "execution_count": 15,
   "id": "4abcff03-da87-43b6-9f7d-d1ede45d0249",
   "metadata": {},
   "outputs": [
    {
     "name": "stdout",
     "output_type": "stream",
     "text": [
      "6.77E+08\n",
      "3.39E+08\n",
      "2.26E+08\n",
      "1.69E+08\n",
      "1.35E+08\n",
      "1.13E+08\n",
      "6.77E+07\n"
     ]
    }
   ],
   "source": [
    "list4 = []\n",
    "Initial_conc = Npar\n",
    "for i in dilution:\n",
    "    diluted_conc = Npar / i\n",
    "    print(format(diluted_conc, '.2E'))\n",
    "    list4.append(diluted_conc)"
   ]
  },
  {
   "cell_type": "code",
   "execution_count": 19,
   "id": "75643061-349a-4663-b23b-d05389eff50f",
   "metadata": {},
   "outputs": [
    {
     "data": {
      "image/png": "[encoded data removed]",
      "text/plain": [
       "<Figure size 576x360 with 1 Axes>"
      ]
     },
     "metadata": {
      "needs_background": "light"
     },
     "output_type": "display_data"
    }
   ],
   "source": [
    "plt.plot(dilution, list4)\n",
    "plt.xlabel('Dilution')\n",
    "plt.ylabel('Calculated conc (particles/cm^-3)')\n",
    "plt.title('Theoretical concentration from stock solution')\n",
    "plt.tight_layout()\n",
    "plt.savefig('theoretic.png')"
   ]
  }
 ],
 "metadata": {
  "kernelspec": {
   "display_name": "Python 3",
   "language": "python",
   "name": "python3"
  },
  "language_info": {
   "codemirror_mode": {
    "name": "ipython",
    "version": 3
   },
   "file_extension": ".py",
   "mimetype": "text/x-python",
   "name": "python",
   "nbconvert_exporter": "python",
   "pygments_lexer": "ipython3",
   "version": "3.9.4"
  }
 },
 "nbformat": 4,
 "nbformat_minor": 5
}
