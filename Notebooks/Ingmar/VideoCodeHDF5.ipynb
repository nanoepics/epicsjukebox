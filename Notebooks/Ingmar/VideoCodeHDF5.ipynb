{
 "cells": [
  {
   "cell_type": "markdown",
   "id": "7ed77f76-86a5-4046-857f-ab38b4d07cc7",
   "metadata": {},
   "source": [
    "Video code from William and Nelfy"
   ]
  },
  {
   "cell_type": "code",
   "execution_count": null,
   "id": "54d535d7-2625-42f0-81d1-f3e4dcb96772",
   "metadata": {},
   "outputs": [],
   "source": []
  },
  {
   "cell_type": "code",
   "execution_count": null,
   "id": "2f004a93-6d2a-4668-8910-087c2b59ae12",
   "metadata": {},
   "outputs": [],
   "source": [
    "folder_number = \"m080\"\n",
    "n = list(range(0,10))\n",
    "for f in n:\n",
    "    base_file   = h5py.File(f'E:/William/20220412/{folder_number}/basler/data_{f}.hdf5', 'r') #call the hdf5 file\n",
    "    ar = []\n",
    "    var = []\n",
    "    for i in range(len(base_file)):\n",
    "        dt_set  = (base_file[f'{i}']) #call dataset\n",
    "        for j in range(layer):\n",
    "            ar.append(dt_set[:,:,j])\n",
    "        data = np.var(np.array(ar), axis = 0)  \n",
    "        avg  = np.mean(np.array(ar), axis = 0)\n",
    "#         plt.imshow(data)\n",
    "#         plt.savefig(f\"E:/William/20220412/{folder_number}/image/variance/data_{f}/im__{i:04}.bmp\")\n",
    "#         plt.imshow(avg)\n",
    "#         plt.savefig(f\"E:/William/20220412/{folder_number}/image/average/data_{f}/im__{i:04}.bmp\")\n",
    "        plt.imsave(f\"E:/William/20220412/{folder_number}/image/variance/data_{f}/im__{i:04}.bmp\", data)\n",
    "        plt.imsave(f\"E:/William/20220412/{folder_number}/image/average/data_{f}/im__{i:04}.bmp\", avg)"
   ]
  },
  {
   "cell_type": "code",
   "execution_count": null,
   "id": "372f45e0-e147-4a3a-99d1-09d72d85290d",
   "metadata": {},
   "outputs": [],
   "source": [
    "# VIDEO\n",
    "\n",
    "def video(fold_num, types): #types: average or variance\n",
    "    n = list(range(0,10))\n",
    "    for f in n:\n",
    "        folder = f\"E:/William/20220412/{fold_num}/movie/{types}/video_{f}.avi\"\n",
    "        img_array = []\n",
    "        for filename in glob.glob(f'E:/William/20220412/{fold_num}/image/{types}/data_{f}/*.bmp'):\n",
    "            img = cv2.imread(filename)\n",
    "            height, width, layer = img.shape\n",
    "            size = (width,height)\n",
    "            img_array.append(img)\n",
    "\n",
    "        out = cv2.VideoWriter(folder, cv2.VideoWriter_fourcc(*'DIVX'),3,size)\n",
    "\n",
    "        for k in range(len(img_array)):\n",
    "            out.write(img_array[k])\n",
    "        out.release\n"
   ]
  },
  {
   "cell_type": "code",
   "execution_count": 1,
   "id": "d10cd431-a637-4df6-b68f-bb910fac1b96",
   "metadata": {},
   "outputs": [
    {
     "ename": "NameError",
     "evalue": "name 'video' is not defined",
     "output_type": "error",
     "traceback": [
      "\u001b[1;31m---------------------------------------------------------------------------\u001b[0m",
      "\u001b[1;31mNameError\u001b[0m                                 Traceback (most recent call last)",
      "\u001b[1;32m<ipython-input-1-30a3a4c36a2a>\u001b[0m in \u001b[0;36m<module>\u001b[1;34m\u001b[0m\n\u001b[1;32m----> 1\u001b[1;33m \u001b[0mvideo\u001b[0m\u001b[1;33m(\u001b[0m\u001b[1;34mf'{folder_number}'\u001b[0m\u001b[1;33m,\u001b[0m \u001b[1;34m'average'\u001b[0m\u001b[1;33m)\u001b[0m\u001b[1;33m\u001b[0m\u001b[1;33m\u001b[0m\u001b[0m\n\u001b[0m\u001b[0;32m      2\u001b[0m \u001b[0mvideo\u001b[0m\u001b[1;33m(\u001b[0m\u001b[1;34mf'{folder_number}'\u001b[0m\u001b[1;33m,\u001b[0m \u001b[1;34m'variance'\u001b[0m\u001b[1;33m)\u001b[0m\u001b[1;33m\u001b[0m\u001b[1;33m\u001b[0m\u001b[0m\n",
      "\u001b[1;31mNameError\u001b[0m: name 'video' is not defined"
     ]
    }
   ],
   "source": [
    "video(f'{folder_number}', 'average')\n",
    "video(f'{folder_number}', 'variance')"
   ]
  },
  {
   "cell_type": "code",
   "execution_count": null,
   "id": "03287878-8f51-4137-9f0e-a1a6c7370af5",
   "metadata": {},
   "outputs": [],
   "source": []
  }
 ],
 "metadata": {
  "kernelspec": {
   "display_name": "Python 3",
   "language": "python",
   "name": "python3"
  },
  "language_info": {
   "codemirror_mode": {
    "name": "ipython",
    "version": 3
   },
   "file_extension": ".py",
   "mimetype": "text/x-python",
   "name": "python",
   "nbconvert_exporter": "python",
   "pygments_lexer": "ipython3",
   "version": "3.9.4"
  }
 },
 "nbformat": 4,
 "nbformat_minor": 5
}
