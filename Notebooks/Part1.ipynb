{
 "cells": [
  {
   "cell_type": "markdown",
   "id": "44bb3c75-3a4a-42d5-be9e-92a74fea0b76",
   "metadata": {},
   "source": [
    "Background Correction demonstration.\n",
    "After some trial and error, different methods for background correction were researched and developed. They are demonstrated in this notebook. For further explanation, see the report 'Supporting information to the background correction code'.\n"
   ]
  },
  {
   "cell_type": "code",
   "execution_count": null,
   "id": "cac40a9c-613c-410f-84ba-e546cc5a7776",
   "metadata": {},
   "outputs": [],
   "source": [
    "import numpy as np\n",
    "import matplotlib.pyplot as plt\n",
    "import matplotlib.animation\n",
    "from matplotlib.animation import FuncAnimation\n",
    "import time\n",
    "import pandas as pd\n",
    "\n",
    "from Particledrop import Landing_Flashes\n",
    "\n",
    "import trackpy"
   ]
  },
  {
   "cell_type": "markdown",
   "id": "2a115424-f20a-4515-9828-c8c49093b1ba",
   "metadata": {},
   "source": [
    "Call this function to execute an animation. Change the interval value to change the speed"
   ]
  },
  {
   "cell_type": "code",
   "execution_count": null,
   "id": "a7d6e993-79db-4569-ae43-461680ab3741",
   "metadata": {},
   "outputs": [],
   "source": [
    "def execute_amovie(moviedata):\n",
    "    plt.rcParams[\"animation.html\"] = \"jshtml\"\n",
    "    plt.rcParams['figure.dpi'] = 100  \n",
    "    plt.ioff()\n",
    "    \n",
    "    fig = plt.figure()\n",
    "    axis = plt.axes()\n",
    "    \n",
    "    film = plt.imshow(moviedata[0])\n",
    "    \n",
    "    def init(): \n",
    "        film.set_data(moviedata[0])\n",
    "        return [film]\n",
    "    \n",
    "    def animate(i):\n",
    "        film.set_array(moviedata[i])\n",
    "        return [film]\n",
    "    \n",
    "    anim = FuncAnimation(fig, animate, frames = moviedata.shape[0], init_func = init, interval = 200, blit = True)\n",
    "\n",
    "    return anim"
   ]
  },
  {
   "cell_type": "markdown",
   "id": "0aaaebff-144b-40ef-97d0-82cb6a220846",
   "metadata": {},
   "source": [
    "First, define all the operating functions on the dataset:"
   ]
  },
  {
   "cell_type": "code",
   "execution_count": null,
   "id": "7c4670a7-c676-4b7b-9d61-852977501ee5",
   "metadata": {},
   "outputs": [],
   "source": [
    "#Do simple backgroundcorrection\n",
    "#Simple mode: Take off the reference (= median), divide by reference - dark\n",
    "#Dark value is now set to 5 in the simulation, could be a variable.\n",
    "#If we put it to 5 here as well, you can get a divide by 0 if there's no noise\n",
    "def Simple_backgroundcor(mov):\n",
    "    bg = np.median(mov,axis=0)\n",
    "\n",
    "    backgroundcor = np.zeros((nf,mov[0].shape[0],mov[0].shape[1]))\n",
    "\n",
    "    dark = np.ones((fov))*5\n",
    "    for i in range(nf):\n",
    "        backgroundcor[i] = (mov[i] - bg)/(bg-dark)\n",
    "\n",
    "    #Set negative values to 0 \n",
    "    backgroundcor[backgroundcor<0] = 0  \n",
    "    \n",
    "    return backgroundcor\n",
    "#The moving average takes off the mean of the past few frames.\n",
    "#Very usefull in combination with trackpy batch and linking\n",
    "\n",
    "def MovingAverage(movie):\n",
    "    start = 6\n",
    "    end = nf\n",
    "\n",
    "    BGCma = movie[start:end,:,:] - np.mean([movie[start-5:end-5,:,:],\n",
    "                                          movie[start-4:end-4,:,:],\n",
    "                                          movie[start-3:end-3,:,:],\n",
    "                                          movie[start-2:end-2,:,:],\n",
    "                                          movie[start-1:end-1,:,:]],\n",
    "                                          axis = 0)\n",
    "    #Normalization could be important\n",
    "    BGCma2 = BGCma/movie[0]\n",
    "    return BGCma2\n",
    "\n",
    "#Or, if you just want to subtract the last frame:\n",
    "\n",
    "def MovingAverageOneFrame(movie):\n",
    "    startframe = 0\n",
    "    endframe = nf \n",
    "    startframe2 = 1 # +1 for accounting for the moving average\n",
    "    endframe2 = endframe-startframe\n",
    "\n",
    "    BGCma = movie[startframe2:endframe2,:,:] - np.mean([movie[startframe2-1:endframe2-1,:,:]], axis = 0)\n",
    "    \n",
    "    BGCma2 = BGCma/movie[0]\n",
    "    return BGCma2\n",
    "\n",
    "#This function makes a Histogram of all intensities in a movie. Use this \n",
    "def Histogram_intensities(movie):\n",
    "    movielist = movie.flatten()\n",
    "\n",
    "    fig, ax = plt.subplots()\n",
    "    plt.title('Intensities in movie:')\n",
    "    ax.hist(movielist, bins = 30)\n",
    "    \n",
    "def Cutoff_movie(movie, cutoff):\n",
    "    movie_cutoff = np.where(movie < cutoff, 0, movie)\n",
    "    return movie_cutoff\n",
    "\n",
    "#For the Fourier transform, it's good to start with images before doing the entire movie\n",
    "#These are functions for Fourier transforming and plotting an image\n",
    "from scipy import fftpack\n",
    "def fft_img(img):\n",
    "    im_fft = fftpack.fft2(img)\n",
    "    return im_fft\n",
    "\n",
    "def plot_spectrum(im_fft):\n",
    "    from matplotlib.colors import LogNorm\n",
    "    # A logarithmic colormap\n",
    "    plt.figure()\n",
    "    plt.title('Fourier transform')\n",
    "    plt.imshow(np.abs(im_fft), norm=LogNorm(vmin=5))\n",
    "    plt.colorbar()\n",
    "\n",
    "#This function cuts off a lot of the fft, it keeps a given fraction in the corners (stolen from internet)\n",
    "#and returns the reconstructed image from that cutoff\n",
    "\n",
    "# Define the fraction of coefficients (in each direction) we keep: keep_fraction\n",
    "\n",
    "def fft_cutoff_plots(img, keep_fraction):\n",
    "    plt.figure()\n",
    "    plt.imshow(img)\n",
    "    plt.title('Normal image')\n",
    "    \n",
    "    im_fft = fftpack.fft2(img)\n",
    "    \n",
    "    plt.figure()\n",
    "    plot_spectrum(im_fft)\n",
    "    plt.title('Fourier Transformed Spectrum')\n",
    "    \n",
    "    # In the lines following, we'll make a copy of the original spectrum and\n",
    "    # truncate coefficients.\n",
    "    \n",
    "    # Call ff a copy of the original transform. Numpy arrays have a copy\n",
    "    # method for this purpose.\n",
    "    im_fft2 = im_fft.copy()\n",
    "\n",
    "    # Set r and c to be the number of rows and columns of the array.\n",
    "    r, c = im_fft2.shape\n",
    "\n",
    "    # Set to zero all rows with indices between r*keep_fraction and\n",
    "    # r*(1-keep_fraction):\n",
    "    im_fft2[int(r*keep_fraction) : int(r*(1-keep_fraction))] = 0\n",
    "\n",
    "    # Similarly with the columns:\n",
    "    im_fft2[:, int(c*keep_fraction) : int(c*(1-keep_fraction))] = 0\n",
    "\n",
    "    plt.figure()\n",
    "    plot_spectrum(im_fft2)\n",
    "    plt.title('Filtered Spectrum')\n",
    "    \n",
    "    # Reconstruct the denoised image from the filtered spectrum, keep only the\n",
    "    # real part for display.\n",
    "    im_new = fftpack.ifft2(im_fft2).real\n",
    "\n",
    "    plt.figure()\n",
    "    plt.imshow(im_new)\n",
    "    plt.title('Reconstructed Image')\n",
    "    return im_new\n",
    "\n",
    "def fft_cutoff_noplot(img, keep_fraction):\n",
    "    im_fft = fftpack.fft2(img)\n",
    "    im_fft2 = im_fft.copy()\n",
    "    r, c = im_fft2.shape\n",
    "    im_fft2[int(r*keep_fraction):int(r*(1-keep_fraction))] = 0\n",
    "    im_fft2[:, int(c*keep_fraction):int(c*(1-keep_fraction))] = 0\n",
    "    im_new = fftpack.ifft2(im_fft2).real\n",
    "    return im_new\n",
    "    \n",
    "def fft_cutoff_movie(movie, keep_fraction):\n",
    "    keepfraction = keep_fraction\n",
    "    movie_new = []\n",
    "    for i in range(movie.shape[0]):\n",
    "        frame = movie[i,:,:]\n",
    "        frame_new = fft_cutoff_noplot(frame, keepfraction)\n",
    "        movie_new.append(frame_new)\n",
    "    movie_new = np.asarray(movie_new)\n",
    "    return movie_new\n",
    "\n",
    "#And the trackpy function which uses batch and link:\n",
    "#Trackpy batch analyses all frames, link looks for particles over multiple frames, \n",
    "#stubs filters for particles apparant for a certain number of frames\n",
    "\n",
    "\n",
    "def trackpy_movie(movie, size, mmass):\n",
    "    nf = movie.shape[0]\n",
    "    f1 = trackpy.batch(movie[:,:,:], size, minmass=mmass, invert=False, processes='auto')\n",
    "    t = trackpy.link(f1, 5, memory=0)\n",
    "    \n",
    "    t1 = trackpy.filter_stubs(t, 3)\n",
    "\n",
    "    t2 = t1.rename(columns={'frame':'Frame'})\n",
    "    particles = t2['particle'].nunique()\n",
    "    print('Unique particles found:', + particles)\n",
    "    \n",
    "    # t2.groupby('Frame')['particle'].nunique().plot(kind='line')\n",
    "    # plt.yticks(np.arange(0, particles+1, 5.0))\n",
    "    # plt.xticks(np.arange(0, nf+1, 10.0))\n",
    "    # plt.title('Number of landed particles over the series of frames')\n",
    "    # plt.xlabel('Frame number')\n",
    "    # plt.ylabel('Number of particles')\n",
    "    # plt.grid()\n",
    "    # plt.show()\n",
    "    \n",
    "    nparticles = []\n",
    "    frames = np.arange(0,nf,1)\n",
    "\n",
    "    for i in range(nf):\n",
    "        temp = t2.loc[t2['Frame'] == i]\n",
    "        nparticles.append(len(temp))\n",
    "\n",
    "    plt.figure()\n",
    "    plt.step(frames,nparticles)\n",
    "    plt.yticks(np.arange(0, particles+1, 5.0))\n",
    "    plt.xticks(np.arange(0, nf+1, 10.0))\n",
    "    plt.title('Stepfunction number of landed particles over the series of frames')\n",
    "    plt.xlabel('Frame number')\n",
    "    plt.ylabel('Number of particles')\n",
    "    plt.grid()\n",
    "    plt.show()\n",
    "    \n",
    "    t_hist = t2.drop_duplicates(subset=['particle'])\n",
    "    plt.title('Found Mass Histogram')\n",
    "    plt.hist(t_hist['mass'])\n",
    "    \n",
    "    plt.figure()\n",
    "    trackpy.annotate(t2[t2['Frame'] == nf-1], movie[nf-1]);\n",
    "    \n",
    "#     return t2, t_hist\n",
    "    return\n",
    "\n",
    "#For a moving average, the filter should be lower\n",
    "#And the cumulative graph should be made differently\n",
    "def trackpy_movie_movav(movie, size, mmass):\n",
    "    nf = movie.shape[0]\n",
    "    f1 = trackpy.batch(movie[:,:,:], size, minmass=mmass, invert=False, processes='auto')\n",
    "    t = trackpy.link(f1, 5, memory=0)\n",
    "    \n",
    "    t1 = trackpy.filter_stubs(t, 1)\n",
    "\n",
    "    t2 = t1.rename(columns={'frame':'Frame'})\n",
    "    particles = t2['particle'].nunique()\n",
    "    print('Unique particles found:', + particles)\n",
    "    \n",
    "    # t2.groupby('Frame')['particle'].nunique().plot(kind='line')\n",
    "    # plt.yticks(np.arange(0, particles+1, 5.0))\n",
    "    # plt.xticks(np.arange(0, nf+1, 10.0))\n",
    "    # plt.title('Number of landed particles over the series of frames')\n",
    "    # plt.xlabel('Frame number')\n",
    "    # plt.ylabel('Number of particles')\n",
    "    # plt.grid()\n",
    "    # plt.show()\n",
    "    \n",
    "    nparticles = []\n",
    "    frames = np.arange(0,nf,1)\n",
    "\n",
    "    for i in range(nf):\n",
    "        temp = t2.loc[t2['Frame'] == i]\n",
    "        nparticles.append(len(temp))\n",
    "\n",
    "    plt.figure()\n",
    "    plt.step(frames,nparticles)\n",
    "    plt.yticks(np.arange(0, particles+1, 5.0))\n",
    "    plt.xticks(np.arange(0, nf+1, 10.0))\n",
    "    plt.title('Stepfunction number of landed particles over the series of frames')\n",
    "    plt.xlabel('Frame number')\n",
    "    plt.ylabel('Number of particles')\n",
    "    plt.grid()\n",
    "    plt.show()\n",
    "    \n",
    "    t_hist = t2.drop_duplicates(subset=['particle'])\n",
    "    plt.title('Found Mass Histogram')\n",
    "    plt.hist(t_hist['mass'])\n",
    "    \n",
    "    plt.figure()\n",
    "    trackpy.annotate(t2, movie[nf-1]);\n",
    "    \n",
    "#     return t2, t_hist\n",
    "    return"
   ]
  },
  {
   "cell_type": "markdown",
   "id": "56cbdebc-4ab5-42e4-a5f5-9563bffb6d9d",
   "metadata": {},
   "source": [
    "Now that's done, let's make a dataset which we'll test the different functions on. Note that the noise is changed in meas.noise=20. This is a property of the fact that the meas object is a class, and different parameters can be changed afterwards like that. If you want to change the noise after this, be sure to also make a new plis and movie dataset. In this notebook, the noise is kept at level 20, so all the methods track the particles quite well. The limits of the methods are mentioned with each demonstrated method. "
   ]
  },
  {
   "cell_type": "code",
   "execution_count": null,
   "id": "346211cd-f5c8-41d6-ae68-0dddf214fb8b",
   "metadata": {},
   "outputs": [],
   "source": [
    "nf = 80\n",
    "fov=[200,300]\n",
    "meas = Landing_Flashes(fov=fov, seed=5045, numpar = 50, noise = 0, nframes = nf, signal = 20, sizevar=0.2, dark = 5, psize = 4, unevenIllumination = False)\n",
    "testframe = nf-1\n",
    "meas.noise = 20\n",
    "plis = meas.parlist\n",
    "movie = meas.genStack()\n",
    "print('Number of particles simulated:', np.shape(plis)[0])\n",
    "\n",
    "plt.figure()\n",
    "plt.title('Simulated Size histogram')\n",
    "plt.hist(plis[:,2])"
   ]
  },
  {
   "cell_type": "code",
   "execution_count": null,
   "id": "81dd8528-e2a1-43fc-9eae-d4f8bb48e47f",
   "metadata": {},
   "outputs": [],
   "source": [
    "execute_amovie(movie)"
   ]
  },
  {
   "cell_type": "markdown",
   "id": "e303ba2e-61df-4476-9b38-3d6bbb8fa9a4",
   "metadata": {},
   "source": [
    "The written trackpy_movie fucntion tries to find all particles. The inputs are size and minmass, two parameters of the trackpy function. Size is the estimation of how big the particles are, minmass the minimal intensity they need to have for trackpy to track them. Note that all particles are found, except ones that land over each other. \n"
   ]
  },
  {
   "cell_type": "code",
   "execution_count": null,
   "id": "4cbf89b7-04f8-4462-a90b-85f4d3f772a1",
   "metadata": {},
   "outputs": [],
   "source": [
    "trackpy_movie(movie, 7, 40)"
   ]
  },
  {
   "cell_type": "markdown",
   "id": "242dfd36-7db9-4fe3-9927-b7609d8e3cab",
   "metadata": {},
   "source": [
    "When a moving average is taken, the particles become flashes."
   ]
  },
  {
   "cell_type": "code",
   "execution_count": null,
   "id": "ffa29118-77b4-48e6-8d61-8e947e702de9",
   "metadata": {},
   "outputs": [],
   "source": [
    "MovAv = MovingAverage(movie)\n",
    "execute_amovie(MovAv)"
   ]
  },
  {
   "cell_type": "markdown",
   "id": "be5619d4-3f49-42fe-9a5e-63490e00ef98",
   "metadata": {},
   "source": [
    "The trackpy plot does not yet work as planned for this moving average, but it has found the double particles!"
   ]
  },
  {
   "cell_type": "code",
   "execution_count": null,
   "id": "5b75f6df-d491-4e08-b1d4-1148e2c7cee4",
   "metadata": {},
   "outputs": [],
   "source": [
    "trackpy_movie_movav(MovAv, 9, 7)"
   ]
  },
  {
   "cell_type": "markdown",
   "id": "88fb0587-1e5a-454c-b110-224260441696",
   "metadata": {},
   "source": [
    "Or just take 1 frame off: Then the plots can be fixed! (Ingmar, can you look at that? It was supposed to be in I_Overview right? The cumulative plot?)"
   ]
  },
  {
   "cell_type": "code",
   "execution_count": null,
   "id": "90010406-caaf-474e-b7cc-f52bddce7f36",
   "metadata": {},
   "outputs": [],
   "source": [
    "MovAv1 = MovingAverageOneFrame(movie)"
   ]
  },
  {
   "cell_type": "code",
   "execution_count": null,
   "id": "4345241e-32fd-47ec-8a46-30df75c763dd",
   "metadata": {},
   "outputs": [],
   "source": [
    "print(MovAv1.shape)"
   ]
  },
  {
   "cell_type": "code",
   "execution_count": null,
   "id": "8fc7de67-16cf-41d7-8f78-9e41c88d0c0e",
   "metadata": {
    "tags": []
   },
   "outputs": [],
   "source": [
    "particlelist = []\n",
    "array = []\n",
    "for i in np.arange(0, MovAv1.shape[0]):\n",
    "    plt.title(f'Trackpy locate on frame no.{i}')\n",
    "    f = trackpy.locate(MovAv1[i, :, :], 9, minmass=7, invert=False) # 9 = the est. pixel size, minmass = intensity \n",
    "    trackpy.annotate(f, MovAv1[i, :, :])\n",
    "    particleframe = len(f['mass'])\n",
    "    if len(f['mass']) != 0:\n",
    "        print('A non-zero value!, namely '+str(particleframe))\n",
    "        particlelist.append(len(f['mass']))\n",
    "        array.append(i)\n",
    "    else:\n",
    "        print('No particles located in this frame!')\n",
    "\n",
    "allparticles = sum(particlelist)\n",
    "print('The total number of landed particles = '+str(allparticles))\n",
    "print(particlelist)\n",
    "print(array)"
   ]
  },
  {
   "cell_type": "code",
   "execution_count": null,
   "id": "ac418de4-8721-4fda-9055-4cc5fa9f070f",
   "metadata": {},
   "outputs": [],
   "source": [
    "# print(array)  # on which frame are particles found\n",
    "print(sum(particlelist))  # number of counts\n",
    "cdf = np.cumsum(particlelist)\n",
    "# plt.figure(figsize=(20,20))  # use larger figsize if the number of frames is high\n",
    "plt.step(array, cdf)\n",
    "plt.title('Cumulative number of landed particles over the series of frames')\n",
    "plt.xlabel('Frame number')\n",
    "plt.ylabel('Number of particles')\n",
    "plt.xticks(np.arange(0, max(array)+1, 5.0))\n",
    "plt.yticks(np.arange(0, max(cdf)+1, 1.0))\n",
    "plt.grid()\n",
    "plt.show()"
   ]
  },
  {
   "cell_type": "markdown",
   "id": "d45fb2b1-31e0-475c-b1c3-a8488b40421a",
   "metadata": {},
   "source": [
    "Now for the Cutoff. A histogram of all intensities is made, and the lower intensities are cut off as a backgroundcorrection. The max noise for which this works seems to be around 20, which is less than just using trackpy, but with higher noises finding the cutoff doesn't work and you delete both signal and noise. At noise level 20, this is already iffy, trackpy does not find all particles.\n",
    "Here you see that the cutoff should be around 30. The Cutoff_movie function does this. "
   ]
  },
  {
   "cell_type": "code",
   "execution_count": null,
   "id": "402272cc-54cd-4cbd-88f2-8ac30dee3a66",
   "metadata": {},
   "outputs": [],
   "source": [
    "Histogram_intensities(movie)"
   ]
  },
  {
   "cell_type": "code",
   "execution_count": null,
   "id": "6d402650-512b-4c75-8858-8f0edb94f74f",
   "metadata": {},
   "outputs": [],
   "source": [
    "movie_cutoff = Cutoff_movie(movie, 30)\n",
    "trackpy_movie(movie_cutoff,7,80)"
   ]
  },
  {
   "cell_type": "markdown",
   "id": "614cd1b8-3af8-4f66-9cb4-a0a70e628e76",
   "metadata": {},
   "source": [
    "The FFT method. First, try out the parameters on a single testframe. The function fft_cutoff_plots gives the fourier transformed spectrum, cut off spectrum and reconstructed image from the cut off spectrum."
   ]
  },
  {
   "cell_type": "code",
   "execution_count": null,
   "id": "9f174e35-05f9-4b5b-95d4-25d5ef03bddf",
   "metadata": {},
   "outputs": [],
   "source": [
    "img = movie[testframe,:,:]\n",
    "\n",
    "#Remember, the number you put into this function is the fraction to keep\n",
    "fft_cutoff_plots(img,0.11)"
   ]
  },
  {
   "cell_type": "markdown",
   "id": "665c42ba-3745-4d6b-9db7-289c64b55baf",
   "metadata": {},
   "source": [
    "Now, put in these parameters to transform the whole movie. This works very well. Combine this with a working moving average to find all particles."
   ]
  },
  {
   "cell_type": "code",
   "execution_count": null,
   "id": "7684bb75-ae18-42be-8724-2921e6811566",
   "metadata": {},
   "outputs": [],
   "source": [
    "moviefft = fft_cutoff_movie(movie, 0.11)\n",
    "execute_amovie(moviefft)"
   ]
  },
  {
   "cell_type": "code",
   "execution_count": null,
   "id": "cb184f39-d97c-48b6-9abd-657fc4b40584",
   "metadata": {},
   "outputs": [],
   "source": [
    "trackpy_movie(moviefft, 7, 60)"
   ]
  },
  {
   "cell_type": "code",
   "execution_count": null,
   "id": "1efc933a-072d-4e3e-aef6-90a011338d60",
   "metadata": {},
   "outputs": [],
   "source": []
  }
 ],
 "metadata": {
  "kernelspec": {
   "display_name": "Python 3",
   "language": "python",
   "name": "python3"
  },
  "language_info": {
   "codemirror_mode": {
    "name": "ipython",
    "version": 3
   },
   "file_extension": ".py",
   "mimetype": "text/x-python",
   "name": "python",
   "nbconvert_exporter": "python",
   "pygments_lexer": "ipython3",
   "version": "3.9.4"
  }
 },
 "nbformat": 4,
 "nbformat_minor": 5
}
